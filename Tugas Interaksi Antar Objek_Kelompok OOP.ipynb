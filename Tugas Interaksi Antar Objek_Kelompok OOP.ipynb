{
 "cells": [
  {
   "cell_type": "code",
   "execution_count": 6,
   "metadata": {},
   "outputs": [
    {
     "name": "stdout",
     "output_type": "stream",
     "text": [
      "Mata kuliah yang diambil oleh Agnes: ['Pemrograman Berbasis Objek', 'Kalkulus']\n",
      "Mata kuliah yang diambil oleh Nada: ['Struktur Data']\n",
      "Mata kuliah yang diambil oleh Sheina: ['Struktur Data']\n",
      "Mahasiswa yang terdaftar di Pemrograman Berbasis Objek: ['Agnes']\n",
      "Mahasiswa yang terdaftar di Kalkulus: ['Agnes']\n",
      "Mahasiswa yang terdaftar di Struktur Data: ['Nada', 'Sheina']\n"
     ]
    }
   ],
   "source": [
    "# Kelas untuk Mahasiswa\n",
    "class Mahasiswa:\n",
    "    def __init__(self, id_mahasiswa, nama):\n",
    "        self.id_mahasiswa = id_mahasiswa\n",
    "        self.nama = nama\n",
    "        self.mata_kuliah = []\n",
    "\n",
    "    def daftar(self, mata_kuliah):\n",
    "        if mata_kuliah not in self.mata_kuliah:\n",
    "            self.mata_kuliah.append(mata_kuliah)\n",
    "            mata_kuliah.tambah_mahasiswa(self)\n",
    "        else:\n",
    "            print(f\"{self.nama} sudah terdaftar di {mata_kuliah.nama_mata_kuliah}\")\n",
    "\n",
    "    def get_mata_kuliah(self):\n",
    "        return [mata_kuliah.nama_mata_kuliah for mata_kuliah in self.mata_kuliah]\n",
    "\n",
    "    def __str__(self):\n",
    "        return f\"ID Mahasiswa: {self.id_mahasiswa}, Nama: {self.nama}\"\n",
    "\n",
    "\n",
    "# Kelas untuk Mata Kuliah\n",
    "class MataKuliah:\n",
    "    def __init__(self, id_mata_kuliah, nama_mata_kuliah):\n",
    "        self.id_mata_kuliah = id_mata_kuliah\n",
    "        self.nama_mata_kuliah = nama_mata_kuliah\n",
    "        self.mahasiswa = []\n",
    "\n",
    "    def tambah_mahasiswa(self, mahasiswa):\n",
    "        if mahasiswa not in self.mahasiswa:\n",
    "            self.mahasiswa.append(mahasiswa)\n",
    "        else:\n",
    "            print(f\"{mahasiswa.nama} sudah terdaftar di mata kuliah ini\")\n",
    "\n",
    "    def get_mahasiswa(self):\n",
    "        return [mahasiswa.nama for mahasiswa in self.mahasiswa]\n",
    "\n",
    "    def __str__(self):\n",
    "        return f\"ID Mata Kuliah: {self.id_mata_kuliah}, Nama Mata Kuliah: {self.nama_mata_kuliah}\"\n",
    "\n",
    "\n",
    "# Contoh penggunaan\n",
    "# Membuat beberapa mahasiswa\n",
    "mahasiswa1 = Mahasiswa(1, \"Agnes\")\n",
    "mahasiswa2 = Mahasiswa(2, \"Nada\")\n",
    "mahasiswa3 = Mahasiswa(3, \"Sheina\")\n",
    "\n",
    "# Membuat beberapa mata kuliah\n",
    "mata_kuliah1 = MataKuliah(\"CS101\", \"Pemrograman Berbasis Objek\")\n",
    "mata_kuliah2 = MataKuliah(\"MA101\", \"Kalkulus\")\n",
    "mata_kuliah3 = MataKuliah(\"MA101\", \"Struktur Data\")\n",
    "\n",
    "# Mahasiswa mendaftar ke mata kuliah\n",
    "mahasiswa1.daftar(mata_kuliah1)\n",
    "mahasiswa2.daftar(mata_kuliah3)\n",
    "mahasiswa1.daftar(mata_kuliah2)\n",
    "mahasiswa3.daftar(mata_kuliah3)\n",
    "\n",
    "# Menampilkan daftar mata kuliah yang diambil oleh mahasiswa\n",
    "print(f\"Mata kuliah yang diambil oleh {mahasiswa1.nama}: {mahasiswa1.get_mata_kuliah()}\")\n",
    "print(f\"Mata kuliah yang diambil oleh {mahasiswa2.nama}: {mahasiswa2.get_mata_kuliah()}\")\n",
    "print(f\"Mata kuliah yang diambil oleh {mahasiswa3.nama}: {mahasiswa3.get_mata_kuliah()}\")\n",
    "\n",
    "# Menampilkan daftar mahasiswa yang terdaftar di mata kuliah\n",
    "print(f\"Mahasiswa yang terdaftar di {mata_kuliah1.nama_mata_kuliah}: {mata_kuliah1.get_mahasiswa()}\")\n",
    "print(f\"Mahasiswa yang terdaftar di {mata_kuliah2.nama_mata_kuliah}: {mata_kuliah2.get_mahasiswa()}\")\n",
    "print(f\"Mahasiswa yang terdaftar di {mata_kuliah3.nama_mata_kuliah}: {mata_kuliah3.get_mahasiswa()}\")\n"
   ]
  }
 ],
 "metadata": {
  "kernelspec": {
   "display_name": "myenv",
   "language": "python",
   "name": "python3"
  },
  "language_info": {
   "codemirror_mode": {
    "name": "ipython",
    "version": 3
   },
   "file_extension": ".py",
   "mimetype": "text/x-python",
   "name": "python",
   "nbconvert_exporter": "python",
   "pygments_lexer": "ipython3",
   "version": "3.12.3"
  }
 },
 "nbformat": 4,
 "nbformat_minor": 2
}
